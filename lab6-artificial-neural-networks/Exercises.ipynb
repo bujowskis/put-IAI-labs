{
 "cells": [
  {
   "cell_type": "code",
   "execution_count": 1,
   "metadata": {},
   "outputs": [],
   "source": [
    "%matplotlib inline\n",
    "import matplotlib.pyplot as plt\n",
    "import numpy as np "
   ]
  },
  {
   "cell_type": "markdown",
   "metadata": {},
   "source": [
    "This exercise consists of 3 parts. Finish the first part to get the mark of 3.0. The first 2 parts to get 4.0. Finish all parts to get 5.0."
   ]
  },
  {
   "cell_type": "markdown",
   "metadata": {},
   "source": [
    "# Part 1: Linear layer"
   ]
  },
  {
   "cell_type": "markdown",
   "metadata": {},
   "source": [
    "1.1) Let us start with a linear regression problem. Consider a linear function with a noise: $y = a*x+b + noise$.\n",
    "\n",
    "We use this formula to generate $100$ random smaples."
   ]
  },
  {
   "cell_type": "code",
   "execution_count": 2,
   "metadata": {},
   "outputs": [],
   "source": [
    "### The number of samples\n",
    "n = 100 \n",
    "### parameters of the linear function\n",
    "a = -2 \n",
    "b = 3"
   ]
  },
  {
   "cell_type": "markdown",
   "metadata": {},
   "source": [
    "1.2) Now, let us generate 100 samples and plot them. "
   ]
  },
  {
   "cell_type": "code",
   "execution_count": 3,
   "metadata": {},
   "outputs": [
    {
     "data": {
      "text/plain": [
       "<matplotlib.collections.PathCollection at 0x1d16e7d0ca0>"
      ]
     },
     "execution_count": 3,
     "metadata": {},
     "output_type": "execute_result"
    },
    {
     "data": {
      "image/png": "[encoded data removed]",
      "text/plain": [
       "<Figure size 432x288 with 1 Axes>"
      ]
     },
     "metadata": {
      "needs_background": "light"
     },
     "output_type": "display_data"
    }
   ],
   "source": [
    "### generate equally spaced x-values\n",
    "x = np.linspace(-1, 1, n) \n",
    "### generate y-values (we use a numpy library so we can generate a vector of numbers - y - inline)\n",
    "y = a * x + b + np.random.normal(scale=0.25, size=n)\n",
    "\n",
    "plt.scatter(x, y)"
   ]
  },
  {
   "cell_type": "markdown",
   "metadata": {},
   "source": [
    "1.3) As you may see, the samples are placed - more or less - along a single line.\n",
    "Now, our aim is to find the best parameters for a linear function \n",
    "so that such defined model describes the given data in the best possible way. For this reason, we will iteratively search the parameter space and thus update the model. Firstly, we need to define an error function. This function will inform how well (or bad) the instantiated model describes the data. For this reason, we use a mean square error function. <br>\n",
    "\n",
    "We define a mean square error function as:<br>\n",
    "$\\dfrac{\\sum\\left(y_i - \\widehat{y}_i \\right)^2}{n} = MSE,$\n",
    "\n",
    "where $y$ are the target (i.e., data values) and $\\widehat{y}$ are the output (i.e., model's) values. <br>\n",
    "\n",
    "See the MSE (mean square error) function given below."
   ]
  },
  {
   "cell_type": "code",
   "execution_count": 4,
   "metadata": {},
   "outputs": [],
   "source": [
    "def mse(y_target, y_calc):\n",
    "    return ((y_target - y_calc) ** 2).mean()"
   ]
  },
  {
   "cell_type": "markdown",
   "metadata": {},
   "source": [
    "1.4) Run the below code for different parameters of the model. Which parameter values give the best (i.e., minimal) MSE?"
   ]
  },
  {
   "cell_type": "code",
   "execution_count": 16,
   "metadata": {},
   "outputs": [
    {
     "name": "stdout",
     "output_type": "stream",
     "text": [
      "MSE = 0.06139158207512604, for a = -2.0 and b = 3.0\n"
     ]
    },
    {
     "data": {
      "image/png": "[encoded data removed]",
      "text/plain": [
       "<Figure size 432x288 with 1 Axes>"
      ]
     },
     "metadata": {
      "needs_background": "light"
     },
     "output_type": "display_data"
    }
   ],
   "source": [
    "a_list = [-3.0 + i*0.25 for i in range(13)]\n",
    "b_list = [-4.0 + i*0.5 for i in range(19)]\n",
    "best_score = np.inf\n",
    "best_ycalc = None\n",
    "best_a = None\n",
    "best_b = None\n",
    "for a_2 in a_list:\n",
    "    for b_2 in b_list:\n",
    "        # print(f'{a_2}x + {b_2}')\n",
    "        ycalc = a_2*x + b_2\n",
    "        score = mse(y, ycalc)\n",
    "        if score < best_score:\n",
    "            # print(\"\\tbetter\")\n",
    "            best_a = a_2\n",
    "            best_b = b_2\n",
    "            best_score = score \n",
    "            best_ycalc = ycalc\n",
    "print(f'MSE = {best_score}, for a = {best_a} and b = {best_b}')\n",
    "\n",
    "plt.scatter(x, y, label=\"target\")\n",
    "plt.scatter(x, best_ycalc, label=\"calculated\")\n",
    "plt.legend()\n",
    "\n",
    "y_calc = best_ycalc"
   ]
  },
  {
   "cell_type": "markdown",
   "metadata": {},
   "source": [
    "1.5) We want to find the best possible model parameters automatically. For this reason, we use a gradient of a loss function. The gradient informs what is the direction of the fastest increase/decrease of a given function. We use this information to update both model parameters. This procedure will be performed iterativelly. In each iteration, the parameters a and b will be slightly modififed such that MSE will be reduced (i.e., improved). <br>\n",
    "\n",
    "Firstly, finish the below function. It should calculate a batch gradient of a loss function, i.e., **MSE for each point separately** (y_target, and y_calc are array,  not just scalars, so output also should be array)."
   ]
  },
  {
   "cell_type": "code",
   "execution_count": 17,
   "metadata": {},
   "outputs": [
    {
     "name": "stdout",
     "output_type": "stream",
     "text": [
      "[0.003728776549995842, 0.23465602812604727, 0.03404139399468124, 0.0182640850691505, 0.01806910300997247, 0.035312983132517316, 0.025548272059138465, 0.011867207442872948, 0.09164247811770843, 0.041196701189461574, 0.30615789135755306, 0.04303439009552524, 0.02034226245832011, 0.041051480260456, 0.15637455066634157, 0.012337606932380042, 0.037479554378879607, 0.003830362194941659, 0.014083076223779111, 0.00045369674126731404, 0.002171113540046711, 0.26121335842455506, 0.03500544576526754, 0.004612130562081373, 0.20836607996831613, 0.03295658419299487, 0.21187198097689794, 0.12239182976406124, 0.020590917842726795, 0.0029823295381938815, 0.009564912682593357, 0.2316273830422819, 0.09233840703589198, 0.006405422267247652, 0.0017311594754103276, 0.02605177971185287, 0.03676132262170064, 0.00026618827637814194, 0.06097997763315236, 1.6684773949518333e-05, 0.022838049074104708, 0.13407644488377848, 0.06871053075356147, 0.07861262534400455, 0.0050515684855469145, 0.010440105916138575, 0.03395895643651038, 0.2285749101489601, 0.001447542775613502, 0.01170676330777243, 0.0001426507117898918, 0.1358212132690592, 0.0028164200358018593, 0.0033512532562426306, 0.0112738300557031, 0.2461891967032283, 0.020448966638597233, 0.012263936883191651, 0.052429550954637055, 0.0022439109139916007, 4.113688385588196e-05, 0.011273289919357287, 0.0006535571659841297, 0.04711050461913247, 0.058744998527845996, 0.12431997280649007, 0.000273626174466462, 0.0031491445270970374, 0.25919048159235786, 0.09030552213486692, 0.07014314262291318, 0.010414182089083929, 0.12496013246175953, 0.25552795924618155, 0.03749532565227536, 0.013597986300587095, 0.06022587363137008, 0.07214914596681361, 0.03432905707734974, 0.2923187967489978, 0.18694488994572445, 0.06836522044203971, 0.06370569312039766, 0.03003778310063775, 0.009069922503036227, 0.04829966696283195, 0.0009896034030856462, 0.022790016982565664, 0.002584887927264224, 0.008843120604412537, 0.014778381443953754, 1.1867236851788214e-07, 0.004102973919111067, 0.05313311866325685, 0.0021334097710095147, 0.08451454714319293, 0.17591021803438753, 0.10695790557798017, 0.021866348612653994, 0.06813120988908375]\n"
     ]
    }
   ],
   "source": [
    "def mse_grad(y_target, y_calc):\n",
    "    n = len(y_target)\n",
    "    errors = [0.0 for i in range(n)]\n",
    "    for i in range(n):\n",
    "        errors[i] = mse(y_target[i], y_calc[i])\n",
    "    return errors\n",
    "\n",
    "\n",
    "### TEST\n",
    "print(mse_grad(y, y_calc))"
   ]
  },
  {
   "cell_type": "markdown",
   "metadata": {},
   "source": [
    "1.6) Fill the update function to calculate gradient of parameter $a$ and $b$ basing on a gradient of loss function (grad_y) and input vector (x).\n",
    "Then update the parameter $a$ and $b$ base on their gradients and learning rate (lr). To update parameters use batch gradient descent."
   ]
  },
  {
   "cell_type": "code",
   "execution_count": null,
   "metadata": {},
   "outputs": [],
   "source": [
    "class LinearLayer:\n",
    "    def __init__(self, a, b):\n",
    "        self.a = a\n",
    "        self.b = b\n",
    "\n",
    "    def __call__(self, x):\n",
    "        return self.a * x + self.b\n",
    "\n",
    "    def update(self, x, grad_y, lr):\n",
    "        def getShifts() -> (float, float):\n",
    "            def getShift_a() -> float:\n",
    "                #todo\n",
    "            \n",
    "            def getShift_b() -> float:\n",
    "                #todo\n",
    "            \n",
    "            return getShift_a(), getShift_b()\n",
    "            \n",
    "        \n",
    "        # calculate shifts\n",
    "        shift_a, shift_b = getShifts()\n",
    "        \n",
    "        # update\n",
    "\n"
   ]
  },
  {
   "cell_type": "markdown",
   "metadata": {},
   "source": [
    "1.7) Write Step function which calculates: y_calc output of the model base on input x, loss of the model, gradient of loss, and update the model parameters."
   ]
  },
  {
   "cell_type": "code",
   "execution_count": null,
   "metadata": {},
   "outputs": [],
   "source": [
    "def Step(x, y, model, lr):\n",
    "    #TODO\n",
    "\n",
    "    return y_calc, loss"
   ]
  },
  {
   "cell_type": "markdown",
   "metadata": {},
   "source": [
    "1.8) Fit the model for 100 epochs, with learning rate 0.05, and with initial value of parameters a = 1.1, and b = 2."
   ]
  },
  {
   "cell_type": "code",
   "execution_count": null,
   "metadata": {},
   "outputs": [],
   "source": [
    "model = LinearLayer(1.1, 2)"
   ]
  },
  {
   "cell_type": "code",
   "execution_count": null,
   "metadata": {},
   "outputs": [],
   "source": [
    "lr = 0.05"
   ]
  },
  {
   "cell_type": "code",
   "execution_count": null,
   "metadata": {},
   "outputs": [],
   "source": [
    "epoch = 100\n",
    "losses = []\n",
    "for i in range(epoch):\n",
    "    y_calc, loss = Step(x, y, model, lr)\n",
    "    losses.append(loss)"
   ]
  },
  {
   "cell_type": "code",
   "execution_count": null,
   "metadata": {},
   "outputs": [],
   "source": [
    "plt.plot(losses)"
   ]
  },
  {
   "cell_type": "markdown",
   "metadata": {},
   "source": [
    "Animation of the learning process"
   ]
  },
  {
   "cell_type": "code",
   "execution_count": null,
   "metadata": {},
   "outputs": [],
   "source": [
    "from matplotlib import animation, rc\n",
    "rc('animation', html='jshtml')"
   ]
  },
  {
   "cell_type": "code",
   "execution_count": null,
   "metadata": {},
   "outputs": [],
   "source": [
    "model = LinearLayer(1.1, 2)"
   ]
  },
  {
   "cell_type": "code",
   "execution_count": null,
   "metadata": {},
   "outputs": [],
   "source": [
    "fig = plt.figure()\n",
    "plt.scatter(x, y)\n",
    "line, = plt.plot(x, y_calc, \".\", c=\"orange\")\n",
    "plt.close()\n",
    "\n",
    "\n",
    "def animate(i):\n",
    "    y_calc, loss = Step(x, y, model, lr)\n",
    "    line.set_ydata(y_calc)\n",
    "    return (line,)\n",
    "\n",
    "\n",
    "animation.FuncAnimation(fig, animate, np.arange(0, epoch), interval=20)"
   ]
  },
  {
   "cell_type": "markdown",
   "metadata": {},
   "source": [
    "1.9) There is an example it can be done in pytorch."
   ]
  },
  {
   "cell_type": "code",
   "execution_count": null,
   "metadata": {},
   "outputs": [],
   "source": [
    "# Imports\n",
    "import torch\n",
    "import torch.nn as nn"
   ]
  },
  {
   "cell_type": "code",
   "execution_count": null,
   "metadata": {},
   "outputs": [],
   "source": [
    "# Convert numpy array to torch tensor, [:,None] add an additional dimension\n",
    "xt = torch.FloatTensor(x[:, None])\n",
    "yt = torch.FloatTensor(y[:, None])"
   ]
  },
  {
   "cell_type": "code",
   "execution_count": null,
   "metadata": {},
   "outputs": [],
   "source": [
    "def mse(y_target, y_calc):\n",
    "    return ((y_target - y_calc) ** 2).mean()"
   ]
  },
  {
   "cell_type": "code",
   "execution_count": null,
   "metadata": {},
   "outputs": [],
   "source": [
    "class LinearLayer(nn.Module):\n",
    "    def __init__(self, a, b):\n",
    "        super(LinearLayer, self).__init__()  # initialize torch functionality\n",
    "        # change a and b to float tensor, and next to parameters,\n",
    "        # the main difference between tensor and parameter is that parameter keeps information about calculations,\n",
    "        # which is used to calculate gradients\n",
    "        self.a = nn.Parameter(torch.FloatTensor([a]).view(1, 1))\n",
    "        self.b = nn.Parameter(torch.FloatTensor([b]))\n",
    "\n",
    "    # forward function is similar to python __call__ but also contain torch functionality\n",
    "    def forward(self, x):\n",
    "        return  x @ self.a + self.b  # linear equation, @ means matrix multiplication for tensor\n",
    "\n",
    "    def update(self, lr):\n",
    "        with torch.no_grad():  # when we update parameter, we have to switch off gradient tracking\n",
    "            self.a.sub_(lr * self.a.grad)  # inplace update of parameter a\n",
    "            self.a.grad.zero_()  # clear gradient\n",
    "\n",
    "            self.b.sub_(lr * self.b.grad)\n",
    "            self.b.grad.zero_()"
   ]
  },
  {
   "cell_type": "code",
   "execution_count": null,
   "metadata": {},
   "outputs": [],
   "source": [
    "model =  LinearLayer(-1.1, 0.2)"
   ]
  },
  {
   "cell_type": "code",
   "execution_count": null,
   "metadata": {},
   "outputs": [],
   "source": [
    "def torchStep(x, y, model, lr):\n",
    "    y_calc = model(x)  # calculate the output of our model\n",
    "    loss = mse(y, y_calc)  # calculate the loss\n",
    "    loss.backward()  # calculate all gradients\n",
    "    model.update(lr)  # update parameters\n",
    "    return loss, y_calc"
   ]
  },
  {
   "cell_type": "code",
   "execution_count": null,
   "metadata": {},
   "outputs": [],
   "source": [
    "loss, y_calc = torchStep(xt, yt, model, lr)\n",
    "y_calc = y_calc.detach().cpu()\n",
    "fig = plt.figure()\n",
    "plt.scatter(xt[:, 0], yt)\n",
    "line, = plt.plot(xt[:, 0], y_calc, c=\"orange\")\n",
    "plt.close()\n",
    "\n",
    "\n",
    "def animate(i):\n",
    "    loss, y_calc = torchStep(xt, yt, model, lr)\n",
    "    y_calc = y_calc.detach().cpu()  #\n",
    "    line.set_ydata(y_calc)\n",
    "    return (line,)\n",
    "\n",
    "\n",
    "animation.FuncAnimation(fig, animate, np.arange(0, 100), interval=20)"
   ]
  },
  {
   "cell_type": "code",
   "execution_count": null,
   "metadata": {},
   "outputs": [],
   "source": [
    "# we can use optymalizer to update parameters base on their gradients\n",
    "# the most simple is stochastic gradient descent (SGD)\n",
    "def torchStep2(x, y, model, optim):\n",
    "    optim.zero_grad()  # clear gradients\n",
    "    y_calc = model(x)  # calculate output of model\n",
    "    loss = mse(y, y_calc)  # calculate loss\n",
    "    loss.backward()  # calculate all gradients\n",
    "    optim.step()  # make a optymalizer step which update parameters\n",
    "    return loss, y_calc"
   ]
  },
  {
   "cell_type": "code",
   "execution_count": null,
   "metadata": {},
   "outputs": [],
   "source": [
    "model = LinearLayer(-1.1, 0.2)\n",
    "optim = torch.optim.SGD(model.parameters(), lr)"
   ]
  },
  {
   "cell_type": "code",
   "execution_count": null,
   "metadata": {},
   "outputs": [],
   "source": [
    "loss, y_calc = torchStep2(xt, yt, model, optim)\n",
    "y_calc = y_calc.detach().cpu()\n",
    "fig = plt.figure()\n",
    "plt.scatter(xt[:, 0], yt)\n",
    "line, = plt.plot(xt[:, 0], y_calc, c=\"orange\")\n",
    "plt.close()\n",
    "\n",
    "\n",
    "def animate(i):\n",
    "    loss, y_calc = torchStep2(xt, yt, model, optim)\n",
    "    y_calc = y_calc.detach().cpu()\n",
    "    line.set_ydata(y_calc)\n",
    "    return (line,)\n",
    "\n",
    "\n",
    "animation.FuncAnimation(fig, animate, np.arange(0, 100), interval=20)"
   ]
  },
  {
   "cell_type": "markdown",
   "metadata": {},
   "source": [
    "# Part 2: Convolution layer"
   ]
  },
  {
   "cell_type": "code",
   "execution_count": null,
   "metadata": {},
   "outputs": [],
   "source": [
    "# input image\n",
    "image = np.array(\n",
    "    [\n",
    "        [0, 0, 0, 0, 0, 1, 0, 0, 0, 0, 0, 0, 0, 0, 0, 0, 0, 0, 0, 0],\n",
    "        [0, 0, 0, 0, 0, 1, 0, 0, 0, 0, 0, 0, 1, 1, 1, 1, 1, 1, 0, 0],\n",
    "        [0, 0, 0, 0, 0, 1, 0, 0, 0, 0, 0, 0, 1, 0, 0, 0, 0, 1, 0, 0],\n",
    "        [0, 0, 0, 0, 0, 1, 0, 0, 0, 0, 0, 0, 1, 0, 0, 0, 0, 1, 0, 0],\n",
    "        [0, 0, 0, 0, 0, 1, 0, 0, 0, 0, 0, 0, 1, 0, 0, 0, 0, 1, 0, 0],\n",
    "        [0, 0, 0, 0, 0, 1, 0, 0, 0, 0, 0, 0, 1, 0, 0, 0, 0, 1, 0, 0],\n",
    "        [0, 0, 0, 0, 0, 1, 0, 0, 0, 0, 0, 0, 1, 1, 1, 1, 1, 1, 0, 0],\n",
    "        [1, 0, 0, 0, 0, 1, 0, 0, 0, 0, 0, 0, 0, 0, 0, 0, 0, 0, 0, 0],\n",
    "        [0, 1, 0, 0, 0, 1, 0, 0, 0, 0, 0, 0, 0, 0, 0, 0, 0, 0, 0, 0],\n",
    "        [0, 0, 1, 0, 0, 1, 0, 0, 0, 0, 0, 0, 0, 0, 0, 0, 0, 0, 0, 0],\n",
    "        [1, 1, 1, 1, 1, 1, 1, 1, 1, 1, 1, 1, 1, 1, 1, 1, 1, 1, 1, 1],\n",
    "        [0, 0, 0, 0, 1, 1, 0, 0, 0, 0, 0, 0, 0, 0, 0, 0, 0, 0, 0, 0],\n",
    "        [0, 0, 0, 0, 0, 1, 0, 0, 0, 0, 0, 0, 0, 0, 0, 0, 0, 0, 0, 0],\n",
    "        [0, 0, 0, 0, 0, 1, 1, 0, 0, 0, 0, 0, 0, 0, 0, 0, 0, 0, 0, 0],\n",
    "        [0, 0, 0, 0, 0, 1, 0, 1, 0, 0, 0, 0, 0, 0, 0, 1, 0, 0, 0, 1],\n",
    "        [0, 0, 0, 0, 0, 1, 0, 0, 1, 0, 0, 0, 0, 0, 0, 0, 0, 0, 1, 0],\n",
    "        [0, 0, 0, 0, 0, 1, 0, 0, 0, 1, 0, 0, 0, 0, 0, 0, 0, 1, 0, 0],\n",
    "        [0, 0, 0, 0, 0, 1, 0, 0, 0, 0, 1, 0, 0, 0, 0, 0, 1, 0, 0, 0],\n",
    "        [0, 0, 0, 0, 0, 1, 0, 0, 0, 0, 0, 1, 0, 0, 0, 1, 0, 0, 0, 0],\n",
    "        [0, 0, 0, 0, 0, 1, 0, 0, 0, 0, 0, 0, 1, 0, 1, 0, 0, 0, 0, 0],\n",
    "    ]\n",
    ")"
   ]
  },
  {
   "cell_type": "code",
   "execution_count": null,
   "metadata": {},
   "outputs": [],
   "source": [
    "plt.imshow(image)"
   ]
  },
  {
   "cell_type": "markdown",
   "metadata": {},
   "source": [
    "2.1) Write a function which calculates a convolution on an input matrix (image) using kernel (mask) with shape 3x3 and bias. Do not use padding, so the output image should be in size: (input_wight -2) x (input_height -2)."
   ]
  },
  {
   "cell_type": "code",
   "execution_count": null,
   "metadata": {},
   "outputs": [],
   "source": [
    "def Convolution(image, kernel, bias):\n",
    "    img_out = np.zeros((image.shape[0] - 2, image.shape[1] - 2))\n",
    "    #TODO\n",
    "            \n",
    "    return img_out"
   ]
  },
  {
   "cell_type": "code",
   "execution_count": null,
   "metadata": {},
   "outputs": [],
   "source": [
    "# kernel (mask) which is mean filter\n",
    "kernel = np.ones((3, 3)) / 9\n",
    "kernel"
   ]
  },
  {
   "cell_type": "code",
   "execution_count": null,
   "metadata": {},
   "outputs": [],
   "source": [
    "bias = -0.5"
   ]
  },
  {
   "cell_type": "code",
   "execution_count": null,
   "metadata": {},
   "outputs": [],
   "source": [
    "img_out = Convolution(image, kernel, bias)"
   ]
  },
  {
   "cell_type": "code",
   "execution_count": null,
   "metadata": {},
   "outputs": [],
   "source": [
    "plt.imshow(img_out)"
   ]
  },
  {
   "cell_type": "markdown",
   "metadata": {},
   "source": [
    "2.2) Find out kernels (masks) which found horizontal and vertical lines. Pixels belonging to the line should be greater than zero and the others less than zero. Use size 3x3 masks."
   ]
  },
  {
   "cell_type": "markdown",
   "metadata": {},
   "source": [
    "Example <br>\n",
    "print(Convolution(np.array([[0,0,0,0,0],[0,0,0,0,0],[1,1,1,1,1],[0,0,0,0,0],[0,0,0,0,0]]), kernel_horizontal, -2)) <br>\n",
    "[[-1. -1. -1.]<br>\n",
    " [ 1.  1.  1.]<br>\n",
    " [-1. -1. -1.]]"
   ]
  },
  {
   "cell_type": "code",
   "execution_count": null,
   "metadata": {},
   "outputs": [],
   "source": [
    "kernel_horizontal ="
   ]
  },
  {
   "cell_type": "code",
   "execution_count": null,
   "metadata": {},
   "outputs": [],
   "source": [
    "img_horizontal = Convolution(image, kernel_horizontal, -2)\n",
    "plt.imshow(img_horizontal)"
   ]
  },
  {
   "cell_type": "code",
   "execution_count": null,
   "metadata": {},
   "outputs": [],
   "source": [
    "kernel_vertical = "
   ]
  },
  {
   "cell_type": "code",
   "execution_count": null,
   "metadata": {},
   "outputs": [],
   "source": [
    "img_vertical = Convolution(image, kernel_vertical, -2)\n",
    "plt.imshow(img_vertical)"
   ]
  },
  {
   "cell_type": "markdown",
   "metadata": {},
   "source": [
    "2.3) Complete function to calculate ReLU."
   ]
  },
  {
   "cell_type": "code",
   "execution_count": null,
   "metadata": {},
   "outputs": [],
   "source": [
    "def relu(x):\n",
    "    "
   ]
  },
  {
   "cell_type": "markdown",
   "metadata": {},
   "source": [
    "2.4) Find bias values such that output images pixels have a value above 0 only if original pixel is a part of the horizontal/vertical line."
   ]
  },
  {
   "cell_type": "code",
   "execution_count": null,
   "metadata": {},
   "outputs": [],
   "source": [
    "plt.imshow(relu(img_horizontal))\n",
    "plt.show()\n",
    "plt.imshow(relu(img_vertical))"
   ]
  },
  {
   "cell_type": "markdown",
   "metadata": {},
   "source": [
    "# Part 3: Deep network"
   ]
  },
  {
   "cell_type": "code",
   "execution_count": null,
   "metadata": {},
   "outputs": [],
   "source": [
    "import pandas as pd"
   ]
  },
  {
   "cell_type": "code",
   "execution_count": null,
   "metadata": {},
   "outputs": [],
   "source": [
    "# load iris dataset\n",
    "df = pd.read_csv('data/iris.csv')"
   ]
  },
  {
   "cell_type": "code",
   "execution_count": null,
   "metadata": {},
   "outputs": [],
   "source": [
    "# n - number of elements in dataset\n",
    "n = len(df)"
   ]
  },
  {
   "cell_type": "code",
   "execution_count": null,
   "metadata": {},
   "outputs": [],
   "source": [
    "# useful variables\n",
    "feature_columns = [\"sepal.length\", \"sepal.width\", \"petal.length\", \"petal.width\"]\n",
    "target_column = \"variety\"\n",
    "class_number = 3\n",
    "feature_number = 4"
   ]
  },
  {
   "cell_type": "code",
   "execution_count": null,
   "metadata": {},
   "outputs": [],
   "source": [
    "# dictionaries use to map class name to number\n",
    "name_to_class = {0: \"Setosa\", 1: \"Versicolor\", 2: \"Virginica\"}\n",
    "class_to_name = {\"Setosa\": 0, \"Versicolor\": 1, \"Virginica\": 2}"
   ]
  },
  {
   "cell_type": "code",
   "execution_count": null,
   "metadata": {},
   "outputs": [],
   "source": [
    "# conversion of class name\n",
    "df[target_column] = df[target_column].apply(lambda x: class_to_name[x])"
   ]
  },
  {
   "cell_type": "code",
   "execution_count": null,
   "metadata": {},
   "outputs": [],
   "source": [
    "# take raw numpy data\n",
    "x = df[feature_columns].values\n",
    "y = df[target_column].values"
   ]
  },
  {
   "cell_type": "code",
   "execution_count": null,
   "metadata": {},
   "outputs": [],
   "source": [
    "# normalize data to make network input mean value equals 0 and standard deviation 1\n",
    "x = (x - x.mean(0)) / x.std(0)\n",
    "print(x.mean(0))\n",
    "print(x.std(0))"
   ]
  },
  {
   "cell_type": "code",
   "execution_count": null,
   "metadata": {},
   "outputs": [],
   "source": [
    "# conversion numpy array to torch tensor\n",
    "x = torch.FloatTensor(x)\n",
    "y = torch.LongTensor(y)"
   ]
  },
  {
   "cell_type": "code",
   "execution_count": null,
   "metadata": {},
   "outputs": [],
   "source": [
    "# simple neural network with one hidden layer with hidden_nr neuron\n",
    "# input_layer calculate some features  which are used by hidden_layer to calculate prediction\n",
    "# between input_layer and hidden_layer there is relu  as a nonlinear activation function\n",
    "# after hidden_layer there is sigmoid function because we want the network to return the result as a probability of each class in range [0,1]\n",
    "class Net(nn.Module):\n",
    "    def __init__(self, input_nr, hidden_nr, output_nr):\n",
    "        super(Net, self).__init__()\n",
    "        self.input_layer = nn.Linear(input_nr, hidden_nr)\n",
    "        self.hidden_layer = nn.Linear(hidden_nr, output_nr)\n",
    "\n",
    "    def forward(self, x):\n",
    "        x = self.input_layer(x)\n",
    "        x = torch.relu(x)\n",
    "        x = self.hidden_layer(x)\n",
    "        return torch.sigmoid(x)"
   ]
  },
  {
   "cell_type": "markdown",
   "metadata": {},
   "source": [
    "Cross entropy loss is equal $- (y=0) * log(p_0) - (y=1) * log(p_1)  - (y=2) * log(p_2)$ where $p_1, p_2,p_3$ are calculated probability of class 1,2,3; and y=0 means y is classified to class 0."
   ]
  },
  {
   "cell_type": "code",
   "execution_count": null,
   "metadata": {},
   "outputs": [],
   "source": [
    "loss_func = nn.CrossEntropyLoss()"
   ]
  },
  {
   "cell_type": "code",
   "execution_count": null,
   "metadata": {},
   "outputs": [],
   "source": [
    "# accuracy means how many samples are classified correctly\n",
    "def Accuracy(y_target, y_calc):\n",
    "    prediction_class = y_calc.max(1)[1]\n",
    "    number_of_correct = (prediction_class == y).float().sum()\n",
    "    return number_of_correct / n"
   ]
  },
  {
   "cell_type": "code",
   "execution_count": null,
   "metadata": {},
   "outputs": [],
   "source": [
    "def Step(x, y, model, optim):\n",
    "    optim.zero_grad()\n",
    "    y_calc = model(x)\n",
    "    loss = loss_func(y_calc, y)\n",
    "    loss.backward()\n",
    "    optim.step()\n",
    "    acc = Accuracy(y, y_calc)\n",
    "    return loss, y_calc, acc"
   ]
  },
  {
   "cell_type": "code",
   "execution_count": null,
   "metadata": {},
   "outputs": [],
   "source": [
    "# Train function train model for epoch step, and collect metrics (loss and accuracy)\n",
    "def Train(x, y, model, optim, epoch):\n",
    "    losses = []\n",
    "    accuracies = []\n",
    "    for i in range(epoch):\n",
    "        loss, y_calc, acc = Step(x, y, model, optim)\n",
    "        losses.append(loss)\n",
    "        accuracies.append(acc)\n",
    "    return losses, accuracies"
   ]
  },
  {
   "cell_type": "code",
   "execution_count": null,
   "metadata": {},
   "outputs": [],
   "source": [
    "lr = 0.1"
   ]
  },
  {
   "cell_type": "code",
   "execution_count": null,
   "metadata": {},
   "outputs": [],
   "source": [
    "# create a model and optimalizer\n",
    "hidden_nr = 5\n",
    "model = Net(feature_number, hidden_nr, class_number)\n",
    "optim = torch.optim.SGD(model.parameters(), lr)"
   ]
  },
  {
   "cell_type": "code",
   "execution_count": null,
   "metadata": {},
   "outputs": [],
   "source": [
    "epoch = 200\n",
    "losses, accuracies = Train(x, y, model, optim, epoch)"
   ]
  },
  {
   "cell_type": "code",
   "execution_count": null,
   "metadata": {},
   "outputs": [],
   "source": [
    "plt.plot(losses)\n",
    "plt.show()\n",
    "plt.plot(accuracies)"
   ]
  },
  {
   "cell_type": "markdown",
   "metadata": {},
   "source": [
    "## Task for 5:\n",
    "Choose one of the following 3.1 or 3.2:"
   ]
  },
  {
   "cell_type": "markdown",
   "metadata": {},
   "source": [
    "3.1) Create a report of testing different values of learning rate, and number of neurons in hidden layer; Run every test 10 times with 200 epochs. Make a plot of mean of losses and accuracy of each value in the test case. Make a table of score after 200 epochs of learning which should contain best, worst, mean and standard deviation of loss and accuracy (you can use pandas describe function).  \n",
    "\n",
    "    test case 1: \n",
    "    learning rate:[ 1, 0.5, 0.1, 0.01, 0.001]\n",
    "    number of neuron in hidden layer: 10\n",
    "    \n",
    "    test case 2: \n",
    "    number of neuron in hidden layer: [1, 2, 5, 10, 20, 100]\n",
    "    learning rate: 0.1\n",
    "    \n",
    "    "
   ]
  },
  {
   "cell_type": "markdown",
   "metadata": {},
   "source": [
    "3.2) You can try to make an image classifier shown in fastai coures https://docs.fast.ai/\n",
    "* [video](https://course.fast.ai/videos/?lesson=2)\n",
    "* [notebook](https://github.com/fastai/fastbook/blob/master/02_production.ipynb)\n",
    "\n",
    "**(old version of fastai 1.0.61 and pytorch 1.2)**\n",
    "* [video](https://course17.fast.ai/lessons/lesson2.html) You should watch all video, but after 16.30 there are creating your own dataset and next create an image classifier. \n",
    "* [notebook](https://github.com/fastai/course-v3/blob/master/nbs/dl1/lesson2-download.ipynb)\n",
    "\n",
    "\n",
    "You can use animals dataset or prepare your own dataset, but it should contain at least 4 different classes.\n",
    "\n",
    "    To finish this task you should prepare a report by creating a classifier, and show working neural network at the laboratory.\n",
    "    The report should contain:\n",
    "        - describe of dataset: number of samples, some examples, how it was prepared, number of samples in train and validation set, are there images which contains more than one class, batch size\n",
    "        - describe of model: tested models\n",
    "        - describe of training: how testing looks like, how many epoch, how long it takes, data cleaning, learning rate finder and so on, plots of losses, and accuracy\n",
    "        - describe of result: confusion matrix, examples of correct classified image, examples of incorrect classified image\n",
    "        "
   ]
  },
  {
   "cell_type": "code",
   "execution_count": null,
   "metadata": {},
   "outputs": [],
   "source": []
  }
 ],
 "metadata": {
  "kernelspec": {
   "display_name": "Python 3 (ipykernel)",
   "language": "python",
   "name": "python3"
  },
  "language_info": {
   "codemirror_mode": {
    "name": "ipython",
    "version": 3
   },
   "file_extension": ".py",
   "mimetype": "text/x-python",
   "name": "python",
   "nbconvert_exporter": "python",
   "pygments_lexer": "ipython3",
   "version": "3.9.5"
  }
 },
 "nbformat": 4,
 "nbformat_minor": 4
}
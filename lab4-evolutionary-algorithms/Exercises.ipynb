{
 "cells": [
  {
   "cell_type": "markdown",
   "metadata": {},
   "source": [
    "# Shortest Hamiltonian path problem"
   ]
  },
  {
   "cell_type": "markdown",
   "metadata": {},
   "source": [
    "Shortest Hamiltonian path problem is a little simpler version of the problem __Travelling Salesman Problem (TSP)__\n",
    "where we are not looking for a __cycle__ passing through all the nodes (cities) and we are satisfied with the shortest __path__ connecting all cities. We don't have to go back to the start city."
   ]
  },
  {
   "cell_type": "markdown",
   "metadata": {},
   "source": [
    "There are N cities. Given is a distance matrix M=NxN, where $M[i][j]$ is a distance from the i-th to the j-th city.\n",
    "In this exercise, we consider a symmetrical variant of shortest Hamiltonian path problem, i.e., $M[i][j] = M[j][i]$. Furthermore, $M[i][i] = 0$.\n",
    "The objective is to find the __shortest path traversing through each city once__. In other words: <br> Let s=[3,1,...,5] be some N-element permutation of indices. We want to find such a permutation that $\\sum_{k=2,...,N}M[s[k-1]][s[k]]$ is optimal (minimal)."
   ]
  },
  {
   "cell_type": "markdown",
   "metadata": {},
   "source": [
    "This exercise consists of three parts. Finish the first part to get a mark of 3.0; the first two parts for 4.0. Complete all three parts to get 5.0."
   ]
  },
  {
   "cell_type": "markdown",
   "metadata": {},
   "source": [
    "# Part 1: Evolutionary algorithm"
   ]
  },
  {
   "cell_type": "code",
   "execution_count": 1,
   "metadata": {},
   "outputs": [],
   "source": [
    "import common as cm\n",
    "import numpy as np\n",
    "import matplotlib.pyplot as plt\n",
    "import copy\n",
    "import random\n",
    "%matplotlib inline"
   ]
  },
  {
   "cell_type": "markdown",
   "metadata": {},
   "source": [
    "### 1.1) Evaluation"
   ]
  },
  {
   "cell_type": "markdown",
   "metadata": {},
   "source": [
    "Complete the below function. It should evaluate an input solution (decision vector, vector of indices) in terms of TSP distance criterion. M is a distance matrix. Return the computed total distance."
   ]
  },
  {
   "cell_type": "code",
   "execution_count": 2,
   "metadata": {},
   "outputs": [
    {
     "name": "stdout",
     "output_type": "stream",
     "text": [
      "236.28476553372587\n",
      "236.28476553372587\n",
      "363.3878692639945\n"
     ]
    }
   ],
   "source": [
    "def getEvaluation(solution, M):\n",
    "    distance = 0.0\n",
    "    for i in range(1, len(solution)):\n",
    "        distance += M[solution[i]][solution[i-1]]\n",
    "    distance += M[solution[0]][solution[len(solution)-1]]\n",
    "\n",
    "    return distance\n",
    "\n",
    "M = cm.getTutorialDistanceMatrix() ### 6 CITIES\n",
    "print(getEvaluation([0,1,2,3,4,5], M)) ### SHOULD BE 236.28\n",
    "print(getEvaluation([5,4,3,2,1,0], M)) ### SHOULD BE THE SAME, IT IS A CYCLE :)\n",
    "print(getEvaluation([0,2,1,3,5,4], M))"
   ]
  },
  {
   "cell_type": "markdown",
   "metadata": {},
   "source": [
    "### 1.2) Validation"
   ]
  },
  {
   "cell_type": "markdown",
   "metadata": {},
   "source": [
    "This function can be used to validate the solution, i.e., to check if a given solution vector is of a proper size and to check if each element is unique."
   ]
  },
  {
   "cell_type": "code",
   "execution_count": 3,
   "metadata": {},
   "outputs": [
    {
     "name": "stdout",
     "output_type": "stream",
     "text": [
      "False\n",
      "True\n",
      "False\n",
      "False\n"
     ]
    }
   ],
   "source": [
    "def isValid(solution, cities):\n",
    "    if len(solution) != cities: return False\n",
    "    s = set(solution)\n",
    "    e = set([i for i in range(cities)])\n",
    "    if s==e: return True\n",
    "    else: return False\n",
    "    \n",
    "print(isValid([0,1,2,3,4,5,6], 6)) # FALSE\n",
    "print(isValid([0,1,2,3,4,5], 6)) # TRUE\n",
    "print(isValid([0,1,2,3,4,5,5], 6)) # FALSE\n",
    "print(isValid([0,1,1,2,3,2], 6)) # FALSE"
   ]
  },
  {
   "cell_type": "markdown",
   "metadata": {},
   "source": [
    "### 1.3) Initialization"
   ]
  },
  {
   "cell_type": "markdown",
   "metadata": {},
   "source": [
    "We need to create a population of solutions. These solutions - initially - can be generated randomly. \n",
    "Firstly, complete getRandomSolution function (cities = the number of cities considered in the TSP problem).\n",
    "It should generate a random permutation of [0,1,...,cities] vector. You can use np.random.shuffle function. Then, \n",
    "finish getInitialPopulation method. It should return a populationSize-element vector of pairs [distance, solution], where a solution is a random permutation of indices, and distance = the total distance (solution evaluation). "
   ]
  },
  {
   "cell_type": "code",
   "execution_count": 4,
   "metadata": {},
   "outputs": [
    {
     "name": "stdout",
     "output_type": "stream",
     "text": [
      "390.9075844780597 : [1, 3, 0, 5, 2, 4]\n",
      "356.30984191959305 : [3, 2, 0, 4, 5, 1]\n",
      "363.3878692639945 : [5, 4, 0, 2, 1, 3]\n",
      "299.08611684440405 : [3, 2, 0, 1, 5, 4]\n",
      "323.030777142379 : [5, 2, 1, 4, 3, 0]\n",
      "292.72419231057614 : [5, 3, 4, 2, 1, 0]\n",
      "315.11498458287787 : [5, 1, 2, 3, 0, 4]\n",
      "330.97176922597106 : [4, 0, 3, 2, 5, 1]\n",
      "397.7302492684498 : [4, 2, 0, 5, 1, 3]\n",
      "302.36903047347255 : [4, 3, 5, 0, 2, 1]\n"
     ]
    }
   ],
   "source": [
    "def getRandomSolution(cities):\n",
    "    np.random.shuffle(cities)\n",
    "    return cities\n",
    "\n",
    "def getInitialPopulation(populationSize, cities, M):\n",
    "    population = []\n",
    "    trivial = [i for i in range(cities)]\n",
    "    for i in range(populationSize):\n",
    "        solution = getRandomSolution(trivial)\n",
    "        if not isValid(solution, cities):\n",
    "            raise Exception(\"solution not valid\")\n",
    "        population.append((getEvaluation(solution, M), copy.deepcopy(solution)))\n",
    "    return population\n",
    "\n",
    "def printPopulation(population):\n",
    "    for s in population:\n",
    "        print(str(s[0]) + \" : \" + str(s[1]))\n",
    "\n",
    "population = getInitialPopulation(10, 6, M)\n",
    "printPopulation(population)"
   ]
  },
  {
   "cell_type": "markdown",
   "metadata": {},
   "source": [
    "### 1.4) Sort population"
   ]
  },
  {
   "cell_type": "markdown",
   "metadata": {},
   "source": [
    "The below function should sort the population according to the distance, i.e., according to the first element of each pair. These should be ordered from the smallest to the largest.You can use .sort method and a lambda function."
   ]
  },
  {
   "cell_type": "code",
   "execution_count": 5,
   "metadata": {},
   "outputs": [
    {
     "name": "stdout",
     "output_type": "stream",
     "text": [
      "292.72419231057614 : [5, 3, 4, 2, 1, 0]\n",
      "299.08611684440405 : [3, 2, 0, 1, 5, 4]\n",
      "302.36903047347255 : [4, 3, 5, 0, 2, 1]\n",
      "315.11498458287787 : [5, 1, 2, 3, 0, 4]\n",
      "323.030777142379 : [5, 2, 1, 4, 3, 0]\n",
      "330.97176922597106 : [4, 0, 3, 2, 5, 1]\n",
      "356.30984191959305 : [3, 2, 0, 4, 5, 1]\n",
      "363.3878692639945 : [5, 4, 0, 2, 1, 3]\n",
      "390.9075844780597 : [1, 3, 0, 5, 2, 4]\n",
      "397.7302492684498 : [4, 2, 0, 5, 1, 3]\n"
     ]
    }
   ],
   "source": [
    "def sortPopulation(population):\n",
    "    population.sort()\n",
    "\n",
    "sortPopulation(population)\n",
    "printPopulation(population)"
   ]
  },
  {
   "cell_type": "markdown",
   "metadata": {},
   "source": [
    "### 1.5) Summarize the population"
   ]
  },
  {
   "cell_type": "markdown",
   "metadata": {},
   "source": [
    "The below function should compute minimum, mean, and maximum value of the total distances of solutions in the population. Return these statistics as [min, mean, max] vector. "
   ]
  },
  {
   "cell_type": "code",
   "execution_count": 6,
   "metadata": {},
   "outputs": [
    {
     "name": "stdout",
     "output_type": "stream",
     "text": [
      "[292.72419231057614, 337.1632415509778, 397.7302492684498]\n"
     ]
    }
   ],
   "source": [
    "def getStats(population):\n",
    "    minimum = np.inf\n",
    "    maximum = 0.0\n",
    "    sum = 0.0\n",
    "    for d, s in population:\n",
    "        sum += d\n",
    "        if d < minimum:\n",
    "            minimum = d\n",
    "        if d > maximum:\n",
    "            maximum = d\n",
    "    return [minimum, sum/len(population), maximum]\n",
    "\n",
    "print(getStats(population))"
   ]
  },
  {
   "cell_type": "markdown",
   "metadata": {},
   "source": [
    "### 1.6) Tournament selection of size K"
   ]
  },
  {
   "cell_type": "markdown",
   "metadata": {},
   "source": [
    "You are asked to implement a tournament for parent selection (it is assumed that the population is already sorted). Firstly, complete getTournamentSelection method. It should return index corresponding to selected parent solution. Simply generate K random integers from [0,...,populationSize] and select the smallest index (as the solutions are ordered from the best to the worst). Repeat this process twice and return a vector [index1, index2]. Then, complete getMatingPool method. Usually, matingPoolSize = population size, i.e., we wish to generate an offspring population of size populationSize and thus we need to select such many pairs of parent solutions. This metod should return a vector of these pairs, e.g., [[2, 5], [9, 2], ..., [5, 7]]. "
   ]
  },
  {
   "cell_type": "code",
   "execution_count": 7,
   "metadata": {},
   "outputs": [
    {
     "name": "stdout",
     "output_type": "stream",
     "text": [
      "[[2, 3], [1, 2], [1, 5], [0, 3], [2, 0], [3, 2], [1, 0], [0, 2], [1, 4], [1, 3]]\n"
     ]
    }
   ],
   "source": [
    "def getTournamentSelection(populationSize, size):\n",
    "    contestants = random.sample(range(0, populationSize), size)\n",
    "    return min(contestants)\n",
    "    \n",
    "def getParentIndices(populationSize, K):\n",
    "    parents = []\n",
    "    parents.append(getTournamentSelection(populationSize, size=K))\n",
    "    p2 = getTournamentSelection(populationSize, K)\n",
    "    while p2 == parents[0]:\n",
    "        p2 = getTournamentSelection(populationSize, K)\n",
    "    parents.append(p2)\n",
    "    return parents\n",
    "    \n",
    "def getMatingPool(matingPoolSize, populationSize, K):\n",
    "    matingPool = []\n",
    "    for i in range(matingPoolSize):\n",
    "        matingPool.append(getParentIndices(populationSize, K))\n",
    "    return matingPool\n",
    "     \n",
    "matingPool = getMatingPool(10, 10, 2)\n",
    "print(matingPool)"
   ]
  },
  {
   "cell_type": "markdown",
   "metadata": {
    "pycharm": {
     "name": "#%% md\n"
    }
   },
   "source": [
    "## Remark regards \"the same parents\" problem\n",
    "We spent about 20 minutes thinking of whether the same parent is allowed to be chosen for the \"two-parents\" element of\n",
    "the mating pool size. There were several ideas for the final choice, some of them being positive and some negative. We\n",
    "wanted to mention them here.\n",
    "\n",
    "If the same parent is chosen for both parents, it practically means no matter what type of crossover we use, this\n",
    "parent will get through to the next generation unchanged. It may be harmful, e.g. it's unlikely, but possible for the\n",
    "last K elements to be chosen for the tournament participation, which results in POPSIZE-K worst element making it into\n",
    "the next generation. Moreover, in steady-state approach it's even more harmful, as it may happen the same solution\n",
    "occurs more than once in the population.\n",
    "\n",
    "However, there's a tendency for better solutions to be chosen for such a\n",
    "single-parent pair, thus in generational model, this action can be considered a rough elitist model - passing some of\n",
    "the best elements through into the next generation unchanged.\n",
    "\n",
    "Of course, there are several methods to solve this problem. For instance, we could alter the `getParentIndices` such\n",
    "that it chooses two different parents all the time, or make some kind of policy on how often can a single parent attend\n",
    "the tournament (e.g. can participate at max X times).\n",
    "\n",
    "Because we apply kind of steady-state approach, we will change it such that two parents must be different."
   ]
  },
  {
   "cell_type": "markdown",
   "metadata": {},
   "source": [
    "**Question: How does the selection depend on K? Run the below code for different K and verify your thoughts. The plot illustrates how many times a solutions of a given rank was selected by the tournament selection of size K.**\n",
    "\n",
    "The bigger the K is, the more often the best solutions wih tournament, so the higher the selection pressure.\n",
    "The smaller the K is, the bigger chance the worse individuals have to win the tournament, so the lower the selection pressure.\n",
    "\n",
    "In general, we want a balance between high and low selective pressure.\n",
    "- If it's too high, it causes low diversity of our solutions - the program converges too quickly, and we're likely to\n",
    "get stuck in a local optimum.\n",
    "- If it's too low, it causes big diversity of our solutions - the program behaves similar to random search, which makes\n",
    "using EA pointless.\n"
   ]
  },
  {
   "cell_type": "code",
   "execution_count": 8,
   "metadata": {},
   "outputs": [
    {
     "data": {
      "image/png": "[encoded data removed]",
      "text/plain": [
       "<Figure size 432x288 with 1 Axes>"
      ]
     },
     "metadata": {
      "needs_background": "light"
     },
     "output_type": "display_data"
    },
    {
     "data": {
      "image/png": "[encoded data removed]",
      "text/plain": [
       "<Figure size 432x288 with 1 Axes>"
      ]
     },
     "metadata": {
      "needs_background": "light"
     },
     "output_type": "display_data"
    },
    {
     "data": {
      "image/png": "[encoded data removed]",
      "text/plain": [
       "<Figure size 432x288 with 1 Axes>"
      ]
     },
     "metadata": {
      "needs_background": "light"
     },
     "output_type": "display_data"
    },
    {
     "data": {
      "image/png": "[encoded data removed]",
      "text/plain": [
       "<Figure size 432x288 with 1 Axes>"
      ]
     },
     "metadata": {
      "needs_background": "light"
     },
     "output_type": "display_data"
    }
   ],
   "source": [
    "def testTournament(matingPoolSize, populationSize, K):\n",
    "    testMatingPool = getMatingPool(matingPoolSize, populationSize, K)\n",
    "    cm.displayHistogram(plt, np, testMatingPool, populationSize)\n",
    "    \n",
    "testTournament(10000, 10, 1)\n",
    "testTournament(10000, 10, 2)\n",
    "testTournament(10000, 10, 3)\n",
    "testTournament(10000, 10, 5)"
   ]
  },
  {
   "cell_type": "markdown",
   "metadata": {},
   "source": [
    "### 1.7) Crossover operator"
   ]
  },
  {
   "cell_type": "markdown",
   "metadata": {},
   "source": [
    "Now, you are asked to implement the crossover operator. A and B are solutions (decision vectors). Let child be a new offspring solution (decision vector) and N is the number of cities.  Assume that the first N/2 elements of the child vector = the first N/2 elements of A, while the last N/2 elements of the child vector = the last N/2 elements of B. Obviously, such constructed solution may not be valid (use isValid) method. Repair this. You can, e.g., check (i) which indices are duplicated and (ii) which indices are missing. Then, you can replace one copy of each duplicate with one random missing index. "
   ]
  },
  {
   "cell_type": "code",
   "execution_count": 9,
   "metadata": {},
   "outputs": [
    {
     "name": "stdout",
     "output_type": "stream",
     "text": [
      "[0, 1, 2, 4, 5, 3]\n"
     ]
    }
   ],
   "source": [
    "def getCrossedOver(A, B):\n",
    "    child = A.copy()\n",
    "    N = len(A)\n",
    "\n",
    "    for i in range(int(N/2), N):\n",
    "        child[i] = B[i]\n",
    "    if isValid(solution=child, cities=N): return child\n",
    "\n",
    "    indices = set()\n",
    "    seen = set()\n",
    "    for i in range(N):\n",
    "        if child[i] in seen:\n",
    "            indices.add(i)\n",
    "        else:\n",
    "            seen.add(child[i])\n",
    "    aset = set(A) - seen\n",
    "    bset = set(B) - seen\n",
    "    aset = aset.union(aset, bset)\n",
    "    alist = list(aset)\n",
    "\n",
    "    np.random.shuffle(alist)\n",
    "    for i in indices:\n",
    "        child[i] = alist.pop()\n",
    "    \n",
    "    if not isValid(child, N): print(\"CROSSOVER ERROR!\")\n",
    "    return child\n",
    "\n",
    "### TEST\n",
    "print(getCrossedOver([0,1,2,3,4,5],[0,1,3,4,2,4]))"
   ]
  },
  {
   "cell_type": "markdown",
   "metadata": {},
   "source": [
    "### 1.8) Mutation operator"
   ]
  },
  {
   "cell_type": "markdown",
   "metadata": {},
   "source": [
    "Implement the mutation operator. Simply swap two different random cities (indices). Apply this mutation with a certain probability (input argument)."
   ]
  },
  {
   "cell_type": "code",
   "execution_count": 10,
   "metadata": {},
   "outputs": [
    {
     "name": "stdout",
     "output_type": "stream",
     "text": [
      "[0, 1, 3, 2, 4, 5]\n",
      "[0, 3, 2, 1, 4, 5]\n",
      "[0, 5, 2, 3, 4, 1]\n",
      "[0, 1, 2, 5, 4, 3]\n",
      "[0, 1, 2, 3, 4, 5]\n",
      "[0, 3, 2, 1, 4, 5]\n",
      "[2, 1, 0, 3, 4, 5]\n",
      "[2, 1, 0, 3, 4, 5]\n",
      "[3, 1, 2, 0, 4, 5]\n",
      "[0, 1, 4, 3, 2, 5]\n"
     ]
    }
   ],
   "source": [
    "def mutate(solution, probability):\n",
    "    if np.random.random() < probability:\n",
    "        x,y = random.sample(range(0,len(solution)),2)\n",
    "        solution[x],solution[y] = solution[y],solution[x]\n",
    "    \n",
    "for i in range(10):\n",
    "    s= [0,1,2,3,4,5]\n",
    "    mutate(s, 0.9)\n",
    "    print(s)"
   ]
  },
  {
   "cell_type": "markdown",
   "metadata": {},
   "source": [
    "### 1.9) Create offspring"
   ]
  },
  {
   "cell_type": "markdown",
   "metadata": {},
   "source": [
    "Now, combine both operators. The below method should generate the offspring. For each pair of parent indices in matingPool, i.e., [index1, index2], take the corresponding solutions from the population and apply the crossover and mutation operators in order to generate a single offspring/child. Evaluate this solution, i.e., compute the total distance. Finally, add [distance, child] to children vector.   "
   ]
  },
  {
   "cell_type": "code",
   "execution_count": 11,
   "metadata": {},
   "outputs": [],
   "source": [
    "def getOffspring(population, matingPool, mutationProbability, M):\n",
    "    children = []\n",
    "    for p1, p2 in matingPool:\n",
    "        child = getCrossedOver(population[p1][1], population[p2][1])\n",
    "        mutate(child, mutationProbability)\n",
    "        children.append((getEvaluation(child, M), child))\n",
    "\n",
    "    return children"
   ]
  },
  {
   "cell_type": "markdown",
   "metadata": {},
   "source": [
    "### 1.10) Evolutionary Algorithm"
   ]
  },
  {
   "cell_type": "markdown",
   "metadata": {},
   "source": [
    "Now, you are asked to combine all the previously completed methods into an evolutionary algorithm. This is the outline of the algorithm: <br>\n",
    "1) Create  & evaluate an initial population of size \"populationSize\" <br>\n",
    "2) Sort the population <br>\n",
    "3) Construct a mating pool <br>\n",
    "4) Generate  & evaluate an offspring of size \"populationSize\" <br>\n",
    "5) Merge the current population and the offspring <br>\n",
    "6) Sort such merged population <br>\n",
    "7) Remove the worst half of the population or a better approach is to use tournament selection (run populationSize times) <br>\n",
    "8) Go to (2) until the stopping criterion is not meet (repeat for the assumed number of generations) <br>\n",
    "\n",
    "In each generation, compute & display the statistics concerning the current population. Finally, what is the best solution found by the method? Rerun the method for different parameters (e.g., population size) and check if you can improve the result."
   ]
  },
  {
   "cell_type": "markdown",
   "metadata": {
    "pycharm": {
     "name": "#%% md\n"
    }
   },
   "source": [
    "## IMPORTANT REMARK\n",
    "We wasted so much time trying to figure out what was the cause of a problem we stumbled upon. Namely, our final\n",
    "population tended to practically always consist of the same, single individual, which dominated the set. The cause of\n",
    "that was almost deterministic nature of the simple crossover we implemented. There's no mechanism for checking if a\n",
    "given pair of parents was already chosen to make offspring. The simple crossover tends to make about exactly the same\n",
    "offspring from exactly the same parents. That quickly leads to the problem we encountered, and that's why with just a\n",
    "few generations, the set converges.\n",
    "\n",
    "**This can be easily seen in the \"extreme\" section of no. of generations (just compare 1, 2, 3 and 5 generations)**"
   ]
  },
  {
   "cell_type": "code",
   "execution_count": 12,
   "metadata": {},
   "outputs": [
    {
     "name": "stdout",
     "output_type": "stream",
     "text": [
      "\n",
      "no changes to parameters\n",
      "[236.28476553372585, 236.28476553372585, 236.28476553372585]\n",
      "(247.50867124638634, [2, 3, 5, 0, 4, 1])\n",
      "\n",
      "no. of generations changes\n",
      "1\n",
      "[251.30378496171937, 296.6037285117738, 332.84609418777103]\n",
      "(252.14155017681912, [2, 5, 0, 1, 4, 3])\n",
      "2\n",
      "[236.28476553372585, 267.7116048923143, 292.7241923105761]\n",
      "(272.6115536955877, [3, 0, 5, 4, 1, 2])\n",
      "3\n",
      "[247.50867124638634, 252.00540776567414, 258.1617535068781]\n",
      "(251.3037849617194, [4, 5, 3, 2, 1, 0])\n",
      "5\n",
      "[236.28476553372585, 236.28476553372585, 236.28476553372585]\n",
      "(236.28476553372585, [2, 3, 4, 5, 0, 1])\n",
      "25\n",
      "[236.28476553372585, 236.28476553372585, 236.28476553372585]\n",
      "(251.3037849617194, [4, 5, 3, 2, 1, 0])\n",
      "50\n",
      "((247.50867124638634, [2, 3, 5, 0, 4, 1]), [236.28476553372585, 236.28476553372585, 236.28476553372585])\n",
      "75\n",
      "[247.50867124638637, 247.5086712463863, 247.50867124638637]\n",
      "(258.1617535068781, [3, 5, 0, 1, 4, 2])\n",
      "\n",
      "popsize changes\n",
      "10\n",
      "[236.28476553372585, 236.28476553372587, 236.28476553372585]\n",
      "(236.28476553372585, [1, 2, 3, 4, 5, 0])\n",
      "20\n",
      "((247.50867124638634, [2, 3, 5, 0, 4, 1]), [236.28476553372585, 236.28476553372585, 236.28476553372585])\n",
      "30\n",
      "[247.50867124638637, 247.50867124638629, 247.50867124638637]\n",
      "(295.2910031290711, [5, 1, 4, 3, 2, 0])\n",
      "\n",
      "mutation probability changes\n",
      "1/8\n",
      "[236.28476553372587, 236.28476553372585, 236.28476553372587]\n",
      "(252.14155017681912, [3, 2, 5, 0, 1, 4])\n",
      "1/6\n",
      "((247.50867124638634, [2, 3, 5, 0, 4, 1]), [236.28476553372585, 236.28476553372585, 236.28476553372585])\n",
      "1/4\n",
      "[236.28476553372585, 236.28476553372585, 236.28476553372585]\n",
      "(274.9930827056829, [3, 4, 0, 5, 1, 2])\n",
      "\n",
      "K\n",
      "1/25 popsize\n",
      "[236.28476553372585, 236.28476553372585, 236.28476553372585]\n",
      "(236.28476553372585, [5, 0, 1, 2, 3, 4])\n",
      "1/12 popsize\n",
      "[247.50867124638634, 247.5086712463863, 247.50867124638634]\n",
      "(292.263452054014, [0, 1, 4, 5, 2, 3])\n",
      "1/8\n",
      "((247.50867124638634, [2, 3, 5, 0, 4, 1]), [236.28476553372585, 236.28476553372585, 236.28476553372585])\n",
      "1/4\n",
      "[236.28476553372585, 236.28476553372585, 236.28476553372585]\n",
      "(236.28476553372585, [0, 5, 4, 3, 2, 1])\n"
     ]
    },
    {
     "data": {
      "text/plain": [
       "((236.28476553372585, [0, 5, 4, 3, 2, 1]),\n",
       " [236.28476553372585, 236.28476553372585, 236.28476553372585])"
      ]
     },
     "execution_count": 12,
     "metadata": {},
     "output_type": "execute_result"
    }
   ],
   "source": [
    "###\n",
    "costMatrix = cm.getTutorialDistanceMatrix() ### 6 CITIES\n",
    "cities = 6\n",
    "\n",
    "def runEA(costMatrix, cities, mutationProbability, populationSize, generations, K):\n",
    "    population = getInitialPopulation(populationSize, cities, costMatrix)\n",
    "    sortPopulation(population)\n",
    "    best = population[0]\n",
    "\n",
    "    for g in range(generations):\n",
    "        matingPool = getMatingPool(populationSize, populationSize, K)\n",
    "        offspring = getOffspring(population, matingPool, mutationProbability, M)\n",
    "        bigpop = population + offspring\n",
    "        sortPopulation(bigpop)\n",
    "        population = bigpop[0:populationSize]\n",
    "        if best < population[0]:\n",
    "            best = population[0]\n",
    "\n",
    "    #printPopulation(population)\n",
    "    print(getStats(population))\n",
    "    print(best)\n",
    "    return best, getStats(population)\n",
    "\n",
    "# we can change these three\n",
    "# mutationProbability = 1.0/6.0\n",
    "# populationSize = 20\n",
    "# generations = 50\n",
    "print(\"\\nno changes to parameters\")\n",
    "regular_result = runEA(costMatrix, cities, 1.0/6.0, 20, 50, int(np.ceil(50/8)))\n",
    "\n",
    "print(\"\\nno. of generations changes\")\n",
    "print(\"1\")\n",
    "runEA(costMatrix, cities, 1.0/6.0, 20, 1, int(np.ceil(25/8)))\n",
    "print(\"2\")\n",
    "runEA(costMatrix, cities, 1.0/6.0, 20, 2, int(np.ceil(25/8)))\n",
    "print(\"3\")\n",
    "runEA(costMatrix, cities, 1.0/6.0, 20, 3, int(np.ceil(25/8)))\n",
    "print(\"5\")\n",
    "runEA(costMatrix, cities, 1.0/6.0, 20, 5, int(np.ceil(25/8)))\n",
    "print(\"25\")\n",
    "runEA(costMatrix, cities, 1.0/6.0, 20, 25, int(np.ceil(25/8)))\n",
    "print(\"50\")\n",
    "print(regular_result)\n",
    "print(\"75\")\n",
    "runEA(costMatrix, cities, 1.0/6.0, 20, 75, int(np.ceil(75/8)))\n",
    "\n",
    "print(\"\\npopsize changes\")\n",
    "print(\"10\")\n",
    "runEA(costMatrix, cities, 1.0/6.0, 10, 50, int(np.ceil(50/8)))\n",
    "print(\"20\")\n",
    "print(regular_result)\n",
    "print(\"30\")\n",
    "runEA(costMatrix, cities, 1.0/6.0, 30, 50, int(np.ceil(50/8)))\n",
    "\n",
    "print(\"\\nmutation probability changes\")\n",
    "print(\"1/8\")\n",
    "runEA(costMatrix, cities, 1.0/8.0, 20, 50, int(np.ceil(50/8)))\n",
    "print(\"1/6\")\n",
    "print(regular_result)\n",
    "print(\"1/4\")\n",
    "runEA(costMatrix, cities, 1.0/4.0, 20, 50, int(np.ceil(50/8)))\n",
    "\n",
    "print(\"\\nK\")\n",
    "print(\"1/25 popsize\")\n",
    "runEA(costMatrix, cities, 1.0/6.0, 20, 50, int(np.ceil(50/25)))\n",
    "print(\"1/12 popsize\")\n",
    "runEA(costMatrix, cities, 1.0/6.0, 20, 50, int(np.ceil(50/12)))\n",
    "print(\"1/8\")\n",
    "print(regular_result)\n",
    "print(\"1/4\")\n",
    "runEA(costMatrix, cities, 1.0/6.0, 20, 50, int(np.ceil(50/4)))"
   ]
  },
  {
   "cell_type": "markdown",
   "metadata": {},
   "source": [
    "# Part 2: Visualization of convergence"
   ]
  },
  {
   "cell_type": "markdown",
   "metadata": {},
   "source": [
    "2.1) Now, change the data set (distance matrix) to cm.getLargeDistanceMatrix. This instance concerns 15 cities. Run the evolutionary algorithm with a population size of 20 and the number of generation of 200 (and suitably adjust the mutation probability - 1.0/15.0). \n",
    "\n",
    "**In each generation**, store the population statistics (min, mean, and max distances found, in, respectively, Y_MIN, Y_MEAN, Y_MAX). Then, use cm.plotConvergence(plt, X, Y_MIN, Y_MEAN, Y_MAX) to display the convergence plot. Rerun the code for different parameters and observe the results. What is the best value (distance) you could find (print)?"
   ]
  },
  {
   "cell_type": "code",
   "execution_count": 13,
   "metadata": {},
   "outputs": [
    {
     "ename": "IndexError",
     "evalue": "list index out of range",
     "output_type": "error",
     "traceback": [
      "\u001B[1;31m---------------------------------------------------------------------------\u001B[0m",
      "\u001B[1;31mIndexError\u001B[0m                                Traceback (most recent call last)",
      "\u001B[1;32m~\\AppData\\Local\\Temp/ipykernel_16564/2842081683.py\u001B[0m in \u001B[0;36m<module>\u001B[1;34m\u001B[0m\n\u001B[0;32m     16\u001B[0m \u001B[1;33m\u001B[0m\u001B[0m\n\u001B[0;32m     17\u001B[0m \u001B[0mcm\u001B[0m\u001B[1;33m.\u001B[0m\u001B[0mplotConvergence\u001B[0m\u001B[1;33m(\u001B[0m\u001B[0mplt\u001B[0m\u001B[1;33m,\u001B[0m \u001B[0mX\u001B[0m\u001B[1;33m,\u001B[0m \u001B[0mY_MIN\u001B[0m\u001B[1;33m,\u001B[0m \u001B[0mY_MEAN\u001B[0m\u001B[1;33m,\u001B[0m \u001B[0mY_MAX\u001B[0m\u001B[1;33m)\u001B[0m\u001B[1;33m\u001B[0m\u001B[1;33m\u001B[0m\u001B[0m\n\u001B[1;32m---> 18\u001B[1;33m \u001B[0mprint\u001B[0m\u001B[1;33m(\u001B[0m\u001B[0mY_MIN\u001B[0m\u001B[1;33m[\u001B[0m\u001B[1;33m-\u001B[0m\u001B[1;36m1\u001B[0m\u001B[1;33m]\u001B[0m\u001B[1;33m)\u001B[0m\u001B[1;33m\u001B[0m\u001B[1;33m\u001B[0m\u001B[0m\n\u001B[0m",
      "\u001B[1;31mIndexError\u001B[0m: list index out of range"
     ]
    },
    {
     "data": {
      "image/png": "[encoded data removed]",
      "text/plain": [
       "<Figure size 432x288 with 1 Axes>"
      ]
     },
     "metadata": {
      "needs_background": "light"
     },
     "output_type": "display_data"
    }
   ],
   "source": [
    "costMatrix = cm.getLargeDistanceMatrix() ### 15 CITIES\n",
    "cities = 15\n",
    "mutationProbability = 1.0/15.0\n",
    "populationSize = 20\n",
    "generations = 100\n",
    "\n",
    "population = getInitialPopulation(populationSize, cities, costMatrix)\n",
    "sortPopulation(population)\n",
    "\n",
    "X = []\n",
    "Y_MIN = []\n",
    "Y_MEAN = []\n",
    "Y_MAX = []\n",
    "### TODO\n",
    "    \n",
    "\n",
    "cm.plotConvergence(plt, X, Y_MIN, Y_MEAN, Y_MAX)\n",
    "print(Y_MIN[-1])"
   ]
  },
  {
   "cell_type": "markdown",
   "metadata": {},
   "source": [
    "2.2) Each time you rerun the code, while keeping the paramet values fixed, the results my slightly change. This is due to the random nature of evolutionary algorithms. Hence, in order to get the reliable results, the method must be run several times and the results have to be averaged. Do the following:<br>\n",
    "- run the method 20 times <br>\n",
    "- in each run: capture **the best result found** throughout evolutionary search (i.e., in each generation) <br>\n",
    "- for each generation: find min, mean, and max value over **20 independent runs** <br>\n",
    "- use cm.plotConvergence to display the convergence\n",
    "- print the best value ever found "
   ]
  },
  {
   "cell_type": "code",
   "execution_count": null,
   "metadata": {},
   "outputs": [],
   "source": [
    "### TODO\n",
    "\n",
    "cm.plotConvergence(plt, X, Y_MIN, Y_MEAN, Y_MAX)\n",
    "print(Y_MIN[-1])"
   ]
  },
  {
   "cell_type": "markdown",
   "metadata": {},
   "source": [
    "# Part 3: Impact of different parameter values on the optimization"
   ]
  },
  {
   "cell_type": "markdown",
   "metadata": {},
   "source": [
    "In this exercise, you are asked to check how the method performs when involving different parameter values. Firtly, we wish to plot several convergence plots in a single chart. For this reason, you may copy & paste the cm.plotConvergence function (from common.py) and modify it. Then, copy & paste the code you completed in the previous exercise (the one which averages 20 trial runs). <br> Add legend (plt.legend() in the end of plotConvergence2) and add label to function ax.plot. Then: \n",
    "- Firsty, evaluate the performance in terms of different population sizes. Specifically, check how the method performs for the population size = 5, 10, 20, and 50. Display 4 convergence plots in a signle chart. \n",
    "- Secondly, evaluate the performance in terms of different tournament sizes. Specifically, check how the method performs for the tournament size = 1, 2, 5, and 15. Display 4 convergence plots in a signle chart. <br>\n",
    "\n",
    "Briefly describe both charts."
   ]
  },
  {
   "cell_type": "code",
   "execution_count": null,
   "metadata": {},
   "outputs": [],
   "source": [
    "def plotConvergence2(plt, X, Y_MINs, Y_MEANs, Y_MAXs, parameter_values):\n",
    "    ### TODO"
   ]
  },
  {
   "cell_type": "code",
   "execution_count": null,
   "metadata": {},
   "outputs": [],
   "source": [
    "### TODO (POPULATION SIZE)\n"
   ]
  },
  {
   "cell_type": "code",
   "execution_count": null,
   "metadata": {},
   "outputs": [],
   "source": [
    "### TODO (TOURNAMENT SIZE)\n"
   ]
  }
 ],
 "metadata": {
  "kernelspec": {
   "display_name": "Python 3 (ipykernel)",
   "language": "python",
   "name": "python3"
  },
  "language_info": {
   "codemirror_mode": {
    "name": "ipython",
    "version": 3
   },
   "file_extension": ".py",
   "mimetype": "text/x-python",
   "name": "python",
   "nbconvert_exporter": "python",
   "pygments_lexer": "ipython3",
   "version": "3.9.5"
  }
 },
 "nbformat": 4,
 "nbformat_minor": 4
}
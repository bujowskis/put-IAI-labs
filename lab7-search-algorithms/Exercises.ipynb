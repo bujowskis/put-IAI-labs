{
 "cells": [
  {
   "cell_type": "code",
   "execution_count": 55,
   "metadata": {},
   "outputs": [],
   "source": [
    "import numpy as np\n",
    "import matplotlib.pyplot as plt\n",
    "import math\n",
    "import common as cm"
   ]
  },
  {
   "cell_type": "markdown",
   "metadata": {},
   "source": [
    "This exercise consists of only one part."
   ]
  },
  {
   "cell_type": "markdown",
   "metadata": {},
   "source": [
    "# A-star algorithm"
   ]
  },
  {
   "cell_type": "markdown",
   "metadata": {},
   "source": [
    "The task of the A-star algorithm is to find the shortest path between two nodes in the graph. This algorithm is often used to find the shortest path on a 2d map. In this case, nodes are different possible positions (fields), and edges from node in the graph lead to adjacent fields. See the example map below:"
   ]
  },
  {
   "cell_type": "code",
   "execution_count": 56,
   "metadata": {},
   "outputs": [
    {
     "name": "stdout",
     "output_type": "stream",
     "text": [
      "(0, 7) (9, 0)\n"
     ]
    },
    {
     "data": {
      "image/png": "[encoded data removed]",
      "text/plain": [
       "<Figure size 432x288 with 1 Axes>"
      ]
     },
     "metadata": {
      "needs_background": "light"
     },
     "output_type": "display_data"
    }
   ],
   "source": [
    "position_start, position_target, terrain  = cm.getSmallExample()\n",
    "### THE NEXT 2 LINES: OVERRIDE SOME CELLS IN THE MATRIX TO SHOW START/STOP LOCATIONS\n",
    "terrain[position_start[0]][position_start[1]] = 2 ### START\n",
    "terrain[position_target[0]][position_target[1]] = 2 ### TARGER\n",
    "### CYAN LOCATIONS = OBSTACLES\n",
    "plt.imshow(terrain) \n",
    "print(str(position_start) + \" \" + str(position_target))"
   ]
  },
  {
   "cell_type": "markdown",
   "metadata": {},
   "source": [
    "You can consider even bigger case:"
   ]
  },
  {
   "cell_type": "code",
   "execution_count": 57,
   "metadata": {},
   "outputs": [
    {
     "data": {
      "text/plain": [
       "<matplotlib.image.AxesImage at 0x1c0a18be6d0>"
      ]
     },
     "execution_count": 57,
     "metadata": {},
     "output_type": "execute_result"
    },
    {
     "data": {
      "image/png": "[encoded data removed]",
      "text/plain": [
       "<Figure size 432x288 with 1 Axes>"
      ]
     },
     "metadata": {
      "needs_background": "light"
     },
     "output_type": "display_data"
    }
   ],
   "source": [
    "position_start, position_target, terrain  = cm.getBigExample()\n",
    "terrain[position_start[0]][position_start[1]] = 2 ### START\n",
    "terrain[position_target[0]][position_target[1]] = 2 ### START\n",
    "plt.imshow(terrain) "
   ]
  },
  {
   "cell_type": "markdown",
   "metadata": {},
   "source": [
    "There are various possible moves depending on different neighbourhood models and the different cost values for each move."
   ]
  },
  {
   "cell_type": "code",
   "execution_count": 58,
   "metadata": {},
   "outputs": [],
   "source": [
    "possible_moves = [(i-1,j-1) for i in range(3) for j in range(3) if i !=1 or j !=1]\n",
    "#possible_moves = [(0,1),(1,0),(0,-1),(-1,0)]\n",
    "#possible_moves = [(1,2),(2,1),(1,-2),(-2,1),(-1,2),(2,-1),(-1,-2),(-2,-1)]\n",
    "# print(possible_moves)"
   ]
  },
  {
   "cell_type": "code",
   "execution_count": 59,
   "metadata": {},
   "outputs": [],
   "source": [
    "possible_moves_costs = [math.sqrt(abs(i)+abs(j)) for i,j in possible_moves]\n",
    "#possible_moves_costs = [0.5+(abs(i)+abs(j))/2 for i,j in possible_moves]\n",
    "# print(possible_moves_costs)"
   ]
  },
  {
   "cell_type": "markdown",
   "metadata": {},
   "source": [
    "In this task, we will use the node class, which will store references to the node from which we came (parent) positions, and the g (actual cost from the beginning of the path to this node) and f (estimated path length passing through this node)."
   ]
  },
  {
   "cell_type": "markdown",
   "metadata": {},
   "source": [
    "1.1) Complete the function estimatePathLenght calculating the value of f, based on the actual distance of the node from the source g and the Euclidean distance to the target h."
   ]
  },
  {
   "cell_type": "code",
   "execution_count": 60,
   "metadata": {},
   "outputs": [],
   "source": [
    "def getEuclideanDistance(A, B):\n",
    "    dim = len(A)\n",
    "    if dim != len(B):\n",
    "        raise Exception(\"different dimensions\")\n",
    "\n",
    "    sum = 0\n",
    "    for i in range(dim):\n",
    "        sum += (A[i] - B[i])**2\n",
    "    return np.sqrt(sum)"
   ]
  },
  {
   "cell_type": "code",
   "execution_count": 61,
   "metadata": {},
   "outputs": [],
   "source": [
    "class Node():\n",
    "    def __init__(self, parent, position):\n",
    "        self.parent = parent # a reference to the previous (parent) node in the path\n",
    "        self.position = position # node's (x, y) position in the map       \n",
    "        self.g = 0 # g is the actual cost from the source to the node,\n",
    "        self.f = 0 # f is the estimation of the length of the path from the source to the target, \n",
    "                   # passing through the node (i.e., g(x) + h(x)).\n",
    "        self.step = 0 # it says in which step the node was created (visited).\n",
    "        \n",
    "    def __eq__(self, other): ### to check whether two nodes are equal, i.e., takes the same positions\n",
    "        return self.position == other.position \n",
    "    \n",
    "    def updateG(self, cost): ### update the cost based on its parent's cost. \n",
    "        self.g = self.parent.g + cost        \n",
    "        \n",
    "    def GetPath(self): ### get a path (list of positions) from the source to this node\n",
    "                       ### this is a recusive method calling self.parent.getPath()\n",
    "        if self.parent is None:\n",
    "            return [self.position]\n",
    "        else:\n",
    "            return self.parent.GetPath() + [self.position]\n",
    "        \n",
    "    def estimatePathLenght(self, target):      \n",
    "        #TODO\n",
    "        self.h = getEuclideanDistance(self.position,target.position)\n",
    "        self.f = self.g + self.h\n"
   ]
  },
  {
   "cell_type": "markdown",
   "metadata": {},
   "source": [
    "Then there is a function that checks whether a given position is correct, not out of range, and whether it is an obstacle."
   ]
  },
  {
   "cell_type": "code",
   "execution_count": 62,
   "metadata": {},
   "outputs": [],
   "source": [
    "def validPosition(position, terrain):\n",
    "    if position[0]<0 or position[1]<0 or position[0]>=terrain.shape[0] or position[1]>=terrain.shape[1]:\n",
    "        return False\n",
    "    if  terrain[position] == 1:\n",
    "        return False\n",
    "    return True"
   ]
  },
  {
   "cell_type": "markdown",
   "metadata": {},
   "source": [
    "1.2) Complete the function calculating the shortest path using the A * algorithm. \n",
    "\n",
    "1) To do this, find all neighbours positions for the considered node, then check that the position is correct. <br>\n",
    "2) If so, create a new node (child/neighbour) which parent is the node being considered.<br>\n",
    "3) Calculate the child's g value using the cost of transition from node to child.<br>\n",
    "4) Check if the child node has already been visited (closed set).<br>\n",
    "5) If not then check if there is a node on the open set (unvisited) with the same position but a smaller g-value (it's closer to the source).<br>\n",
    "6) If not, calculate the estimated distance from source to destination through the child and add this node to the list to check.<br>\n",
    "7) After generating all adjacent nodes, sort the open set list so that the next considered node has the smallest f value.<br>\n",
    "\n",
    "The algorithm returns a node whose position is the same as the target position and which stores the entire path through the parent field."
   ]
  },
  {
   "cell_type": "code",
   "execution_count": 63,
   "metadata": {},
   "outputs": [],
   "source": [
    "def A_star(terrain, position_start, position_target, possible_moves, possible_moves_costs):\n",
    "    root = Node(None, position_start) ### THE SOURCE NODE\n",
    "    target = Node(None,position_target) ### THE TARGET NODE\n",
    "    \n",
    "    closed_set = [] # visited \n",
    "    open_set = [] \n",
    "    open_set.append(root)\n",
    "    ### Assume that open_set (nodes to be potentially visited) is kept sorted \n",
    "    ### according to node's f score (the lower the better). In each iteration, \n",
    "    ### the best node is popped from the queue. \n",
    "    step = 0 ### This is the first iteration\n",
    "    root.step = step \n",
    "    while(len(open_set)>0):\n",
    "        ### TODO you can follow the hints or you can write your own version\n",
    "        node = open_set.pop()\n",
    "        closed_set.append(node)\n",
    "        step+=1\n",
    "        node.step = step\n",
    "        if node == target:\n",
    "            return node,closed_set\n",
    "        #TODO\n",
    "        for moves in zip(possible_moves,possible_moves_costs): # Iterate over all possible moves and their costs (you can use zip in the for loop)\n",
    "            child_position = list(node.position)### 1. create the child node position \n",
    "            child_position[0] += moves[0][0] # using the original node's position + move\n",
    "            child_position[1] += moves[0][1]\n",
    "            if not validPosition(tuple(child_position), terrain):### 2. If the child's position is not valid, than ignore this child node\n",
    "                continue\n",
    "            new_node = Node(node,tuple(child_position))### 3. Create child node and update its cost  (updateG)\n",
    "            new_node.updateG(moves[1])\n",
    "            bol = False\n",
    "            for z in range(len(closed_set)): ### 4. If there exists the same node in closed_set then ignore this child node\n",
    "                if new_node.position == closed_set[z].position:\n",
    "                    bol = True\n",
    "                    break\n",
    "            if bol:\n",
    "                continue\n",
    "            bol = False # if there is a node on the open set (unvisited) with the same position but a smaller g-value \n",
    "        ### 5. If there exists the same node node in open_set with better score (check .g score), then ignore this child node\n",
    "            delete_list = []\n",
    "            for j in range(len(open_set)):\n",
    "                if new_node.position == open_set[j].position:\n",
    "                    if new_node.g > open_set[j].g:\n",
    "                        bol = True\n",
    "                        break\n",
    "                    else:\n",
    "                        delete_list.append(j)  ### However, if child is better than some node in open_set, remove the worse \n",
    "                                         ### (check .g score) node from the open_set\n",
    "            for x in range(len(delete_list)):\n",
    "                open_set.pop(delete_list[x])\n",
    "            if bol:\n",
    "                continue\n",
    "            new_node.estimatePathLenght(target) ### 6. If the child node passed all tests,  then calcluate estimatePathLenght of node.\n",
    "            open_set.append(new_node)\n",
    "            open_set.sort(key=lambda x: x.f, reverse = True)\n",
    "                    ### 7. The child node can be added to open_set (remember to sort open_set accord to f score)"
   ]
  },
  {
   "cell_type": "markdown",
   "metadata": {},
   "source": [
    "1.3) Find the shortest path for \"small example\":"
   ]
  },
  {
   "cell_type": "code",
   "execution_count": 64,
   "metadata": {},
   "outputs": [],
   "source": [
    "position_start, position_target, terrain  = cm.getSmallExample()"
   ]
  },
  {
   "cell_type": "markdown",
   "metadata": {},
   "source": [
    "Show terrain<br>\n",
    "1 means wall, and 0 empty fields."
   ]
  },
  {
   "cell_type": "code",
   "execution_count": 65,
   "metadata": {},
   "outputs": [
    {
     "data": {
      "text/plain": [
       "<matplotlib.image.AxesImage at 0x1c0a181c2b0>"
      ]
     },
     "execution_count": 65,
     "metadata": {},
     "output_type": "execute_result"
    },
    {
     "data": {
      "image/png": "[encoded data removed]",
      "text/plain": [
       "<Figure size 432x288 with 1 Axes>"
      ]
     },
     "metadata": {
      "needs_background": "light"
     },
     "output_type": "display_data"
    }
   ],
   "source": [
    "plt.imshow(terrain)"
   ]
  },
  {
   "cell_type": "markdown",
   "metadata": {},
   "source": [
    "Run A star algorithm"
   ]
  },
  {
   "cell_type": "code",
   "execution_count": 66,
   "metadata": {},
   "outputs": [
    {
     "name": "stdout",
     "output_type": "stream",
     "text": [
      "13.65685424949238\n",
      "51\n"
     ]
    }
   ],
   "source": [
    "path,closed_set = A_star(terrain, position_start, position_target, possible_moves, possible_moves_costs)\n",
    "print(path.g) \n",
    "print(path.step)"
   ]
  },
  {
   "cell_type": "markdown",
   "metadata": {},
   "source": [
    "Plot path"
   ]
  },
  {
   "cell_type": "code",
   "execution_count": 67,
   "metadata": {},
   "outputs": [
    {
     "data": {
      "image/png": "[encoded data removed]",
      "text/plain": [
       "<Figure size 432x288 with 1 Axes>"
      ]
     },
     "metadata": {
      "needs_background": "light"
     },
     "output_type": "display_data"
    }
   ],
   "source": [
    "cm.plotPath(terrain, path)"
   ]
  },
  {
   "cell_type": "markdown",
   "metadata": {},
   "source": [
    "Plot closed_set where colors indicate the number of the last iteration in which the node was checked."
   ]
  },
  {
   "cell_type": "code",
   "execution_count": 68,
   "metadata": {},
   "outputs": [
    {
     "data": {
      "image/png": "[encoded data removed]",
      "text/plain": [
       "<Figure size 432x288 with 1 Axes>"
      ]
     },
     "metadata": {
      "needs_background": "light"
     },
     "output_type": "display_data"
    }
   ],
   "source": [
    "cm.plotSteps(terrain, closed_set)"
   ]
  },
  {
   "cell_type": "markdown",
   "metadata": {},
   "source": [
    "1.4) Find the shortest path for the \"big example\":"
   ]
  },
  {
   "cell_type": "code",
   "execution_count": 69,
   "metadata": {},
   "outputs": [],
   "source": [
    "position_start, position_target, terrain  = cm.getBigExample()"
   ]
  },
  {
   "cell_type": "code",
   "execution_count": 70,
   "metadata": {},
   "outputs": [
    {
     "name": "stdout",
     "output_type": "stream",
     "text": [
      "40.11269837220809\n",
      "262\n"
     ]
    }
   ],
   "source": [
    "path,closed_set = A_star(terrain, position_start, position_target, possible_moves, possible_moves_costs)\n",
    "print(path.g)\n",
    "print(path.step)"
   ]
  },
  {
   "cell_type": "code",
   "execution_count": 71,
   "metadata": {},
   "outputs": [
    {
     "data": {
      "image/png": "[encoded data removed]",
      "text/plain": [
       "<Figure size 432x288 with 1 Axes>"
      ]
     },
     "metadata": {
      "needs_background": "light"
     },
     "output_type": "display_data"
    }
   ],
   "source": [
    "cm.plotPath(terrain, path)"
   ]
  },
  {
   "cell_type": "code",
   "execution_count": 72,
   "metadata": {},
   "outputs": [
    {
     "data": {
      "image/png": "[encoded data removed]",
      "text/plain": [
       "<Figure size 432x288 with 1 Axes>"
      ]
     },
     "metadata": {
      "needs_background": "light"
     },
     "output_type": "display_data"
    }
   ],
   "source": [
    "cm.plotSteps(terrain,closed_set)"
   ]
  }
 ],
 "metadata": {
  "kernelspec": {
   "display_name": "Python 3 (ipykernel)",
   "language": "python",
   "name": "python3"
  },
  "language_info": {
   "codemirror_mode": {
    "name": "ipython",
    "version": 3
   },
   "file_extension": ".py",
   "mimetype": "text/x-python",
   "name": "python",
   "nbconvert_exporter": "python",
   "pygments_lexer": "ipython3",
   "version": "3.8.8"
  }
 },
 "nbformat": 4,
 "nbformat_minor": 4
}
